{
 "cells": [
  {
   "cell_type": "code",
   "execution_count": 8,
   "id": "055a5641",
   "metadata": {},
   "outputs": [],
   "source": [
    "import pickle as pkl\n",
    "\n",
    "import distances as dist\n",
    "import matplotlib.pyplot as plt"
   ]
  },
  {
   "cell_type": "code",
   "execution_count": 4,
   "id": "19764728",
   "metadata": {},
   "outputs": [],
   "source": [
    "cat = \"full\""
   ]
  },
  {
   "cell_type": "code",
   "execution_count": 5,
   "id": "f86494c1",
   "metadata": {},
   "outputs": [],
   "source": [
    "with open(f\"objects/{cat}/{cat}_wordcount_window.pkl\", \"rb\") as f:\n",
    "    wordcount_window = pkl.load(f)"
   ]
  },
  {
   "cell_type": "code",
   "execution_count": 6,
   "id": "1adde485",
   "metadata": {},
   "outputs": [
    {
     "data": {
      "text/plain": [
       "(14, 50000)"
      ]
     },
     "execution_count": 6,
     "metadata": {},
     "output_type": "execute_result"
    }
   ],
   "source": [
    "wordcount_window.shape"
   ]
  },
  {
   "cell_type": "code",
   "execution_count": 11,
   "id": "8b301c9e",
   "metadata": {},
   "outputs": [],
   "source": [
    "before_wc, after_wc = dist.make_shift_row_arrs(wordcount_window[:,:5000])"
   ]
  },
  {
   "cell_type": "code",
   "execution_count": null,
   "id": "7072baa7",
   "metadata": {},
   "outputs": [],
   "source": [
    "diffs = after_wc - before_wc"
   ]
  },
  {
   "cell_type": "code",
   "execution_count": 12,
   "id": "3434c17c",
   "metadata": {},
   "outputs": [
    {
     "data": {
      "text/plain": [
       "array([[ 8.93400e+03,  1.09630e+04,  1.09090e+04, ...,  2.60000e+01,\n",
       "         9.20000e+01,  2.20000e+01],\n",
       "       [ 1.75300e+04, -3.84900e+03, -2.43300e+04, ...,  6.00000e+00,\n",
       "        -1.95000e+02,  2.50000e+01],\n",
       "       [ 3.88170e+04,  4.52060e+04,  4.11830e+04, ...,  2.70000e+01,\n",
       "         3.17000e+02, -3.20000e+01],\n",
       "       ...,\n",
       "       [ 3.55310e+04, -7.13330e+04, -1.32000e+04, ...,  1.81400e+03,\n",
       "        -1.81000e+02, -1.86300e+03],\n",
       "       [-1.51172e+05, -3.40830e+04,  1.21030e+04, ...,  8.58000e+02,\n",
       "        -1.32900e+03,  7.20000e+01],\n",
       "       [-1.78565e+05, -1.17221e+05, -8.42620e+04, ...,  1.31100e+03,\n",
       "        -1.29000e+03,  5.01200e+03]])"
      ]
     },
     "execution_count": 12,
     "metadata": {},
     "output_type": "execute_result"
    }
   ],
   "source": [
    "for i in range(5000):\n",
    "    plt.plot(range(14), diffs)"
   ]
  },
  {
   "cell_type": "code",
   "execution_count": null,
   "id": "9dc278cf",
   "metadata": {},
   "outputs": [],
   "source": [
    "fig, ax = plt.subplots()\n",
    "ax.hist()"
   ]
  }
 ],
 "metadata": {
  "kernelspec": {
   "display_name": "Python 3 (ipykernel)",
   "language": "python",
   "name": "python3"
  },
  "language_info": {
   "codemirror_mode": {
    "name": "ipython",
    "version": 3
   },
   "file_extension": ".py",
   "mimetype": "text/x-python",
   "name": "python",
   "nbconvert_exporter": "python",
   "pygments_lexer": "ipython3",
   "version": "3.9.13"
  }
 },
 "nbformat": 4,
 "nbformat_minor": 5
}
