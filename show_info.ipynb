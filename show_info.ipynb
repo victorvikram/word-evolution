{
 "cells": [
  {
   "cell_type": "code",
   "execution_count": 2,
   "id": "1cdfa304",
   "metadata": {},
   "outputs": [],
   "source": [
    "import load_data as ld"
   ]
  },
  {
   "cell_type": "code",
   "execution_count": 3,
   "id": "f449862a",
   "metadata": {},
   "outputs": [
    {
     "name": "stdout",
     "output_type": "stream",
     "text": [
      "0\n",
      "speech count 371434 word count 23471857 words/speech 63.192537570604735\n",
      "1\n",
      "speech count 424303 word count 27387251 words/speech 64.5464467609232\n",
      "2\n",
      "speech count 374057 word count 23863461 words/speech 63.79632248561048\n",
      "3\n",
      "speech count 529381 word count 30436839 words/speech 57.49514810693999\n",
      "4\n",
      "speech count 837000 word count 46272181 words/speech 55.28337037037037\n",
      "5\n",
      "speech count 577804 word count 33259599 words/speech 57.562078144145765\n",
      "6\n",
      "speech count 583155 word count 38312929 words/speech 65.69939209987054\n",
      "7\n",
      "speech count 606849 word count 44832362 words/speech 73.87729402207138\n",
      "8\n",
      "speech count 761562 word count 77675937 words/speech 101.99555256170869\n",
      "9\n",
      "speech count 890004 word count 100646227 words/speech 113.08514006678622\n",
      "10\n",
      "speech count 880247 word count 100383139 words/speech 114.03973998207321\n",
      "11\n",
      "speech count 701485 word count 97950270 words/speech 139.63273626663437\n",
      "12\n",
      "speech count 605220 word count 94885793 words/speech 156.77901093817124\n",
      "13\n",
      "speech count 510764 word count 81510200 words/speech 159.58485719432068\n"
     ]
    }
   ],
   "source": [
    "speech_dict = ld.read_one_by_one(\"full_speech_dict\", parent=\"objects/full\")\n",
    "\n",
    "for wind, speech_list in speech_dict.items():\n",
    "    acc = 0\n",
    "    [acc := acc + len(speech) for speech in speech_list]\n",
    "    print(wind)\n",
    "    print(\"speech count\", len(speech_list), \"word count\", acc, \"words/speech\", acc / len(speech_list))"
   ]
  }
 ],
 "metadata": {
  "kernelspec": {
   "display_name": "Python 3 (ipykernel)",
   "language": "python",
   "name": "python3"
  },
  "language_info": {
   "codemirror_mode": {
    "name": "ipython",
    "version": 3
   },
   "file_extension": ".py",
   "mimetype": "text/x-python",
   "name": "python",
   "nbconvert_exporter": "python",
   "pygments_lexer": "ipython3",
   "version": "3.9.13"
  }
 },
 "nbformat": 4,
 "nbformat_minor": 5
}
